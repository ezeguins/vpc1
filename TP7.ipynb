{
 "cells": [
  {
   "cell_type": "code",
   "execution_count": 1,
   "id": "c38880b6",
   "metadata": {},
   "outputs": [],
   "source": [
    "#Si queremos que las imágenes sean mostradas en una ventana emergente quitar el inline\n",
    "# %matplotlib inline\n",
    "%matplotlib inline\n",
    "#inline\n",
    "\n",
    "# Importamos las librerías necesarias\n",
    "import numpy as np\n",
    "import time\n",
    "import cv2 as cv\n",
    "import matplotlib.pyplot as plt\n",
    "import os"
   ]
  },
  {
   "cell_type": "code",
   "execution_count": 2,
   "id": "5a479a3b",
   "metadata": {},
   "outputs": [],
   "source": [
    "root=r'C:\\Users\\Aulamultimedia\\MEGA\\Especializacion en Inteligencia Artificial UBA\\Materias\\Bimestre 2\\Vision por Computadora 1\\TP7_video.avi'\n",
    "cap = cv.VideoCapture(root)\n",
    "if not cap.isOpened:\n",
    "    print('Falla al abrir el archivo: ' + filename)\n"
   ]
  },
  {
   "cell_type": "code",
   "execution_count": 3,
   "id": "49900077",
   "metadata": {},
   "outputs": [],
   "source": [
    "# se define la función para capturar el fondo mediante el estimador de Mediana\n",
    "def fondo_extract(frames):\n",
    "    fondo_Mediana = np.median(frames, axis=0).astype(dtype=np.uint8) \n",
    "    return fondo_Mediana"
   ]
  },
  {
   "cell_type": "code",
   "execution_count": 10,
   "id": "29898a19",
   "metadata": {},
   "outputs": [],
   "source": [
    "# Implementamos función para quedarnos con los primeros N frames del video\n",
    "def firstN(video, n):\n",
    "    frameIds = np.arange(n)\n",
    "    frames = []\n",
    "    for fid in frameIds:\n",
    "        video.set(cv.CAP_PROP_POS_FRAMES, fid)\n",
    "        ret, frame = video.read()\n",
    "        frames.append(frame)\n",
    "        \n",
    "        #Se calcula mediana de frames\n",
    "        fmedian = fondo_extract(frames)\n",
    "        # Escribimos sobre la imagen el número de frame procesado\n",
    "        cv.rectangle(fmedian, (10, 2), (100,20), (255,255,255), -1)\n",
    "        cv.putText(fmedian, str(cap.get(cv.CAP_PROP_POS_FRAMES)), (15, 15),\n",
    "               cv.FONT_HERSHEY_SIMPLEX, 0.5 , (0,0,0))\n",
    "        #Se muestra el frame calculado con mediana\n",
    "        cv.imshow('Median frame', fmedian)\n",
    "        cv.waitKey(1)\n",
    "    cv.destroyAllWindows() \n",
    "     \n",
    "    fmedian_gray = cv.cvtColor(fmedian, cv.COLOR_BGR2GRAY)\n",
    "    return fmedian, fmedian_gray\n",
    "\n",
    "\n"
   ]
  },
  {
   "cell_type": "code",
   "execution_count": 15,
   "id": "a9acad56",
   "metadata": {},
   "outputs": [],
   "source": [
    "# Vemos como funciona el filtrado de fondo con el estimador de Mediana\n",
    "fmedian, fmedian_gray = firstN(cap,60)\n"
   ]
  },
  {
   "cell_type": "code",
   "execution_count": 17,
   "id": "45e6e27b",
   "metadata": {},
   "outputs": [],
   "source": [
    "# Aplicamos el filtrado por Gausiana\n",
    "# se define la variable para caputrar el fondo mediante MOG2\n",
    "backSubGauss = cv.createBackgroundSubtractorMOG2()\n",
    "\n",
    "# Abrimos el archivo\n",
    "#-------------------\n",
    "capture = cv.VideoCapture(root)\n",
    "\n",
    "if not capture.isOpened:\n",
    "    print('Falla al abrir el archivo: ' + filename)\n",
    "    exit(0)\n",
    "\n",
    "# Corremos la sustraccion\n",
    "#------------------------\n",
    "while True:\n",
    "    # Leemos un frame\n",
    "    ret, frame = capture.read()\n",
    "    if frame is None:\n",
    "        break\n",
    "    \n",
    "    # Aplicamos la sustracción al frame leído\n",
    "    #----------------------------------------\n",
    "    # Cada frame se utiliza tanto para calcular la máscara de primer plano como para actualizar el fondo.\n",
    "    # Si se desea cambiar la tasa de aprendizaje utilizada para actualizar el modelo de fondo, es posible\n",
    "    # establecer una tasa de aprendizaje específica pasando un parámetro al método apply.\n",
    "    fgMask = backSubGauss.apply(frame)\n",
    "    \n",
    "    # Aplicamos el algoritmo de filtrado de fondo con el estimador de Mediana\n",
    "    # Primero convertimos la imagen original a escala de grises\n",
    "    frame = cv.cvtColor(frame, cv.COLOR_BGR2GRAY)\n",
    "    # Calculamos diferencia entre la original y nuestro fondo en escala de grises\n",
    "    fmedian_gray_sinfondo = cv.absdiff(frame, fmedian_gray)\n",
    "    th, fmMask = cv.threshold(fmedian_gray_sinfondo, 30, 255, cv.THRESH_BINARY)\n",
    "    \n",
    "    # Escribimos sobre la imagen el número de frame procesado\n",
    "    cv.rectangle(fmMask, (10, 2), (100,20), (255,255,255), -1)\n",
    "    cv.putText(fmMask, str(capture.get(cv.CAP_PROP_POS_FRAMES)), (15, 15),\n",
    "               cv.FONT_HERSHEY_SIMPLEX, 0.5 , (0,0,0))\n",
    "\n",
    "    cv.rectangle(fgMask, (10, 2), (100,20), (255,255,255), -1)\n",
    "    cv.putText(fgMask, str(capture.get(cv.CAP_PROP_POS_FRAMES)), (15, 15),\n",
    "               cv.FONT_HERSHEY_SIMPLEX, 0.5 , (0,0,0))\n",
    "    \n",
    "    # mostramos imagen sin fondo aplicando algoritmo gausiano y también por la Mediana: \n",
    "    cv.imshow('MOG2', fgMask)\n",
    "    cv.imshow('Median', fmMask)\n",
    "    \n",
    "    # Corresmos hasta que termine o apriete escape\n",
    "    keyboard = cv.waitKey(30)\n",
    "    if keyboard == 'q' or keyboard == 27:\n",
    "        break\n",
    "\n",
    "cv.destroyAllWindows()\n",
    "capture.release()"
   ]
  },
  {
   "cell_type": "markdown",
   "id": "e8a36230",
   "metadata": {},
   "source": [
    "## Se observa que el filtrado por Mediana converge mas rápido y tiene menos ruido. A su vez, en esta implementación consume muchos mas recursos computacionales."
   ]
  },
  {
   "cell_type": "code",
   "execution_count": null,
   "id": "8a76b9b8",
   "metadata": {},
   "outputs": [],
   "source": []
  }
 ],
 "metadata": {
  "kernelspec": {
   "display_name": "vision1",
   "language": "python",
   "name": "vision1"
  },
  "language_info": {
   "codemirror_mode": {
    "name": "ipython",
    "version": 3
   },
   "file_extension": ".py",
   "mimetype": "text/x-python",
   "name": "python",
   "nbconvert_exporter": "python",
   "pygments_lexer": "ipython3",
   "version": "3.9.7"
  }
 },
 "nbformat": 4,
 "nbformat_minor": 5
}
