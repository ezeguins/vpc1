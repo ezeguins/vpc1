{
 "cells": [
  {
   "cell_type": "code",
   "execution_count": 25,
   "id": "098f42a2",
   "metadata": {},
   "outputs": [
    {
     "name": "stdout",
     "output_type": "stream",
     "text": [
      "Using matplotlib backend: QtAgg\n"
     ]
    }
   ],
   "source": [
    "#Si queremos que las imágenes sean mostradas en una ventana emergente quitar el inline\n",
    "# %matplotlib inline\n",
    "%matplotlib\n",
    "\n",
    "# Importamos las librerías necesarias\n",
    "import numpy as np\n",
    "import time\n",
    "import cv2 as cv\n",
    "import matplotlib.pyplot as plt\n",
    "import os"
   ]
  },
  {
   "cell_type": "markdown",
   "id": "5953f337",
   "metadata": {},
   "source": [
    "## Cargamos el clasificador pre-entrenado"
   ]
  },
  {
   "cell_type": "code",
   "execution_count": 26,
   "id": "6c0a62a2",
   "metadata": {},
   "outputs": [],
   "source": [
    "#--------------------------------------------------------------------------------\n",
    "face_cascade = cv.CascadeClassifier(r'C:\\Users\\Aulamultimedia\\haarcascade_frontalface_alt.xml')\n",
    "eye_cascade = cv.CascadeClassifier(r'C:\\Users\\Aulamultimedia\\haarcascade_eye.xml')"
   ]
  },
  {
   "cell_type": "markdown",
   "id": "eee9f412",
   "metadata": {},
   "source": [
    "## Hacemos el seguimiento de frames desde la webcam de la pc"
   ]
  },
  {
   "cell_type": "code",
   "execution_count": 55,
   "id": "024c01fb",
   "metadata": {},
   "outputs": [],
   "source": [
    "# Condición de terminación: 10 iteraciones o moverse al menos 1pt\n",
    "#----------------------------------------------------------------\n",
    "term_crit = ( cv.TERM_CRITERIA_COUNT | cv.TERM_CRITERIA_EPS, 10, 1 )\n",
    "cap = cv.VideoCapture(0)\n",
    "\n",
    "frame_width = int(cap.get(3))\n",
    "frame_height = int(cap.get(4))\n",
    "out = cv.VideoWriter('pestaneo.avi',cv.VideoWriter_fourcc('M','J','P','G'), 10, (frame_width,frame_height))\n",
    "\n",
    "\n",
    "primera_lectura = True\n",
    "\n",
    "\n",
    "while(1):\n",
    "\n",
    "    ret ,frame = cap.read()\n",
    "\n",
    "\n",
    "    if ret:\n",
    "        key = False\n",
    "        \n",
    "\n",
    "        if key == True:\n",
    "            break\n",
    "        else:\n",
    "            originalImage = frame\n",
    "            # Imagen a escala de grises\n",
    "            grayImage = cv.cvtColor(originalImage, cv.COLOR_BGR2GRAY)\n",
    "            grayImage = cv.equalizeHist(grayImage)\n",
    "\n",
    "            # Llamamos al clasificador de Haar (AdaBoost)\n",
    "\n",
    "            faces = face_cascade.detectMultiScale(grayImage, 1.1, 1)\n",
    "\n",
    "            # Recorro las caras encontradas\n",
    "            #------------------------------\n",
    "            for (x,y,w,h) in faces:\n",
    "                cv.putText(originalImage, 'Presione \\\"q\\\" para salir',(80,450), cv.FONT_HERSHEY_PLAIN, 1.5,(0,255,255),2)\n",
    "                # Le dibujamos un rectángulo rosa\n",
    "                cv.rectangle(originalImage,(x,y),(x+w,y+h),(255,0,255),2)\n",
    "                # Definimos las ROIs en la imagen gris y color\n",
    "                roi_gray = grayImage[y:y+h, x:x+w] \n",
    "                roi_color = originalImage[y:y+h, x:x+w] \n",
    "                # Para cada rostro hallado le buscamos los ojos\n",
    "                eyes = eye_cascade.detectMultiScale(roi_gray, 1.2, 8)\n",
    "                # En los ojos hallados les dibujamos rectángulos azules\n",
    "                for (ex,ey,ew,eh) in eyes:\n",
    "                    cv.rectangle(roi_color,(ex,ey),(ex+ew,ey+eh),(255,0,0),2)\n",
    "                # Detecto si el programa está viendo los ojos\n",
    "                if(len(eyes)>=2):\n",
    "                    if (primera_lectura):\n",
    "                        cv.putText(originalImage, 'Ojos detectados, \\\"s\\\" para empezar',(20,80), cv.FONT_HERSHEY_PLAIN, 2,(255,255,0),2)\n",
    "                    else: \n",
    "                        cv.putText(originalImage, 'Ojos abiertos',(80,80), cv.FONT_HERSHEY_PLAIN, 2,(0,255,0),2)\n",
    "                else:\n",
    "                    if (primera_lectura):\n",
    "                        cv.putText(originalImage, 'No se detectan los dos ojos',(10,80), cv.FONT_HERSHEY_PLAIN, 2,(255,255,0),2)\n",
    "                    else: \n",
    "                        cv.putText(originalImage, 'pestaneo detectado',(80,80), cv.FONT_HERSHEY_PLAIN, 3,(0,255,0),2)\n",
    "                        #cv.waitKey(3000)\n",
    "                        #primera_lectura=True\n",
    "            cv.imshow('Deteccion de pestaneos!',originalImage)\n",
    "            w = cv.waitKey(1)\n",
    "            if(w==ord('q')):\n",
    "                break\n",
    "            elif(w==ord('s') and primera_lectura):\n",
    "                #This will start the detection\n",
    "                primera_lectura = False\n",
    "                \n",
    "            out.write(frame)\n",
    "\n",
    "    else:\n",
    "        break\n",
    "\n",
    "\n",
    "cap.release()\n",
    "out.release()\n",
    "cv.destroyAllWindows()"
   ]
  },
  {
   "cell_type": "code",
   "execution_count": null,
   "id": "90f21a2c",
   "metadata": {},
   "outputs": [],
   "source": []
  },
  {
   "cell_type": "code",
   "execution_count": null,
   "id": "03f95e47",
   "metadata": {},
   "outputs": [],
   "source": []
  }
 ],
 "metadata": {
  "kernelspec": {
   "display_name": "vision1",
   "language": "python",
   "name": "vision1"
  },
  "language_info": {
   "codemirror_mode": {
    "name": "ipython",
    "version": 3
   },
   "file_extension": ".py",
   "mimetype": "text/x-python",
   "name": "python",
   "nbconvert_exporter": "python",
   "pygments_lexer": "ipython3",
   "version": "3.9.7"
  }
 },
 "nbformat": 4,
 "nbformat_minor": 5
}
