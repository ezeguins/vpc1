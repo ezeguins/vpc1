{
 "cells": [
  {
   "cell_type": "code",
   "execution_count": 1,
   "id": "ac4b5aa7",
   "metadata": {},
   "outputs": [],
   "source": [
    "#Si queremos que las imágenes sean mostradas en una ventana emergente quitar el inline\n",
    "# %matplotlib inline\n",
    "%matplotlib inline\n",
    "\n",
    "import os\n",
    "# OpenCV-Python utiliza NumPy para el manejo de imágenes\n",
    "import numpy as np\n",
    "# cv2 es el módulo python para acceder a OpenCV \n",
    "import cv2 as cv\n",
    "# Usamos las poderosas herramientas de graficación de matplotlib para mostrar imágenes, perfiles, histogramas, etc\n",
    "import matplotlib.pyplot as plt\n",
    "root = r'C:\\Users\\Aulamultimedia\\MEGA\\Especializacion en Inteligencia Artificial UBA\\Materias\\Bimestre 2\\Vision por Computadora 1\\vision_computadora_I\\Material_TPs\\TP3'"
   ]
  },
  {
   "cell_type": "code",
   "execution_count": 2,
   "id": "065f0202",
   "metadata": {},
   "outputs": [
    {
     "name": "stdout",
     "output_type": "stream",
     "text": [
      "Using matplotlib backend: <object object at 0x000001D791A58EA0>\n"
     ]
    }
   ],
   "source": [
    "%matplotlib\n",
    "# Leemos la imagen\n",
    "\n",
    "img = cv.imread(os.path.join(root,'eyes.jpg'))\n",
    "gray = cv.cvtColor(img, cv.COLOR_BGR2GRAY)\n",
    "gray_unblured = gray.copy()\n",
    "# Suavizamos la imagen\n",
    "\n",
    "gray = cv.medianBlur(gray,5)\n",
    "gray_blured = cv.medianBlur(gray,9)\n",
    "\n",
    "cv.imshow('ojos',gray)\n",
    "cv.waitKey(0)\n",
    "cv.destroyAllWindows()\n"
   ]
  },
  {
   "cell_type": "code",
   "execution_count": 3,
   "id": "76e6efda",
   "metadata": {},
   "outputs": [
    {
     "name": "stdout",
     "output_type": "stream",
     "text": [
      "Using matplotlib backend: QtAgg\n",
      "[[144.5 189.5  31.1]\n",
      " [455.5  78.5  29.7]\n",
      " [464.5 418.5  30.2]\n",
      " [132.5 503.5  34.4]\n",
      " [464.5 514.5  31.3]\n",
      " [460.5 181.5  31.3]\n",
      " [149.5  79.5  29.6]\n",
      " [134.5 412.5  31. ]\n",
      " [450.5 287.5  36.9]\n",
      " [137.5 298.5  27.7]]\n",
      "(10, 3)\n"
     ]
    }
   ],
   "source": [
    "%matplotlib\n",
    "# Obtenemos los círculos \n",
    "img_out = img.copy()\n",
    "rad_min = 15\n",
    "rad_max = 54\n",
    "circles = cv.HoughCircles(gray,cv.HOUGH_GRADIENT,1,minDist=40,param1=120,param2=34,minRadius=rad_min,maxRadius=rad_max)\n",
    "print(circles[0,:])\n",
    "print(circles[0,:].shape)\n",
    "\n",
    "circles = np.uint16(np.around(circles))\n",
    "for i in circles[0,:]:\n",
    "    # Dibujamos el círculo externo\n",
    "    cv.circle(img_out,(i[0],i[1]),i[2],(0,255,0),2)\n",
    "    # Dibujamos el centro del círculo\n",
    "    cv.circle(img_out,(i[0],i[1]),2,(0,0,255),3)\n",
    "cv.imshow('detected circles',img_out)\n",
    "cv.waitKey(0)\n",
    "cv.destroyAllWindows()"
   ]
  },
  {
   "cell_type": "code",
   "execution_count": 38,
   "id": "902ab7ec",
   "metadata": {},
   "outputs": [],
   "source": [
    "# Ordeno los ojos en pares dividiendo en derechos e izquierdos y luego ordenando por eje Y\n",
    "#ordenados = np.sort(circles[0,:], axis = 0)\n",
    "izquierdos = np.array([circles[:,0,:],circles[:,6,:],circles[:,7,:],circles[:,3,:],circles[:,9,:]])\n",
    "#izquierdos2 = ordenados2[4:8]\n",
    "#izquierdos2 = np.sort(izquierdos2, axis = 1)\n",
    "derechos= np.array([circles[:,5,:],circles[:,1,:],circles[:,2,:],circles[:,4,:],circles[:,8,:]])"
   ]
  },
  {
   "cell_type": "code",
   "execution_count": 42,
   "id": "95043faa",
   "metadata": {},
   "outputs": [],
   "source": [
    "#derechos = ordenados[0:5]\n",
    "#derechos = np.sort(derechos, axis = 1)\n",
    "\n",
    "\n",
    "# FINALMENTE ORDENO DE LA FORMA MAS INTUITIVA"
   ]
  },
  {
   "cell_type": "code",
   "execution_count": 43,
   "id": "7567c2c0",
   "metadata": {},
   "outputs": [],
   "source": [
    "#izquierdos = ordenados[5:10]\n",
    "#izquierdos = np.sort(izquierdos, axis = 1)"
   ]
  },
  {
   "cell_type": "code",
   "execution_count": 44,
   "id": "1aef7824",
   "metadata": {},
   "outputs": [
    {
     "name": "stdout",
     "output_type": "stream",
     "text": [
      "OJOS 1: la distancia entre ambos iris es 316 píxeles\n",
      "OJOS 2: la distancia entre ambos iris es 306 píxeles\n",
      "OJOS 3: la distancia entre ambos iris es 330 píxeles\n",
      "OJOS 4: la distancia entre ambos iris es 332 píxeles\n",
      "OJOS 5: la distancia entre ambos iris es 312 píxeles\n"
     ]
    }
   ],
   "source": [
    "for i in range(0,5):\n",
    "    print('OJOS {}: la distancia entre ambos iris es {} píxeles'.format(i+1, derechos[i][0][0]-izquierdos[i][0][0]))"
   ]
  },
  {
   "cell_type": "code",
   "execution_count": null,
   "id": "0f8c4e5e",
   "metadata": {},
   "outputs": [
    {
     "name": "stdout",
     "output_type": "stream",
     "text": [
      "Using matplotlib backend: QtAgg\n",
      "[[132.5 505.5  13.6]\n",
      " [463.5 515.5  11.8]\n",
      " [454.5  79.5  11.6]\n",
      " [149.5  79.5  11.1]\n",
      " [445.5 294.5  10.2]\n",
      " [460.5 180.5  12.5]\n",
      " [143.5 188.5  10.2]\n",
      " [138.5 294.5  11.1]]\n",
      "(8, 3)\n"
     ]
    }
   ],
   "source": [
    "# Repito lo mismo para las pupilas, reduciendo el radio mínimo y máximo del algoritmo\n",
    "%matplotlib\n",
    "# Obtenemos los círculos \n",
    "img_out2 = img.copy()\n",
    "rad_min = 8\n",
    "rad_max = 19\n",
    "circles2 = cv.HoughCircles(gray,cv.HOUGH_GRADIENT,1,minDist=100,param1=190,param2=18,minRadius=rad_min,maxRadius=rad_max)\n",
    "print(circles2[0,:])\n",
    "print(circles2[0,:].shape)\n",
    "\n",
    "circles2 = np.uint16(np.around(circles2))\n",
    "for i in circles2[0,:]:\n",
    "    # Dibujamos el círculo externo\n",
    "    cv.circle(img_out2,(i[0],i[1]),i[2],(0,255,0),2)\n",
    "    # Dibujamos el centro del círculo\n",
    "    cv.circle(img_out2,(i[0],i[1]),2,(0,0,255),3)\n",
    "\n",
    "\n",
    "cv.imshow('detected circles',img_out2)\n",
    "cv.waitKey(0)\n",
    "cv.destroyAllWindows()"
   ]
  },
  {
   "cell_type": "code",
   "execution_count": 9,
   "id": "b6f14132",
   "metadata": {},
   "outputs": [],
   "source": [
    "# Veo que detecté 4 de los 5 pares de ojos y es lo mejor que pude obtener jugando con los parámetros...\n",
    "# Repito lo anterior pero sólo para estos valores\n"
   ]
  },
  {
   "cell_type": "code",
   "execution_count": 26,
   "id": "93167774",
   "metadata": {},
   "outputs": [
    {
     "name": "stdout",
     "output_type": "stream",
     "text": [
      "OJOS 1: la distancia entre ambas pupilas es 332 píxeles\n",
      "OJOS 2: la distancia entre ambas pupilas es 304 píxeles\n",
      "OJOS 3: la distancia entre ambas pupilas es 308 píxeles\n",
      "OJOS 4: la distancia entre ambas pupilas es 316 píxeles\n"
     ]
    }
   ],
   "source": [
    "#ordenados2 = np.sort(circles2[0,:], axis = 0)\n",
    "#derechos2 = ordenados2[0:4]\n",
    "#derechos2 = np.sort(derechos2, axis = 1)\n",
    "derechos2 = np.array([circles2[:,1,:],circles2[:,2,:],circles2[:,4,:],circles2[:,5,:]])\n",
    "#izquierdos2 = ordenados2[4:8]\n",
    "#izquierdos2 = np.sort(izquierdos2, axis = 1)\n",
    "izquierdos2= np.array([circles2[:,0,:],circles2[:,3,:],circles2[:,7,:],circles2[:,6,:]])\n",
    "for i in range(0,4):\n",
    "    print('OJOS {}: la distancia entre ambas pupilas es {} píxeles'.format(i+1, derechos2[i][0][0]-izquierdos2[i][0][0]))\n"
   ]
  },
  {
   "cell_type": "code",
   "execution_count": null,
   "id": "42dcb5ac",
   "metadata": {},
   "outputs": [],
   "source": []
  }
 ],
 "metadata": {
  "kernelspec": {
   "display_name": "vision1",
   "language": "python",
   "name": "vision1"
  },
  "language_info": {
   "codemirror_mode": {
    "name": "ipython",
    "version": 3
   },
   "file_extension": ".py",
   "mimetype": "text/x-python",
   "name": "python",
   "nbconvert_exporter": "python",
   "pygments_lexer": "ipython3",
   "version": "3.9.7"
  }
 },
 "nbformat": 4,
 "nbformat_minor": 5
}
